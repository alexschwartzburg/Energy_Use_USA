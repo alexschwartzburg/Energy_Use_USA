{
  "nbformat": 4,
  "nbformat_minor": 0,
  "metadata": {
    "colab": {
      "name": "EIA.ipynb",
      "provenance": [],
      "authorship_tag": "ABX9TyM4O+LKbNpB9LDtK9d16OtZ",
      "include_colab_link": true
    },
    "kernelspec": {
      "name": "python3",
      "display_name": "Python 3"
    }
  },
  "cells": [
    {
      "cell_type": "markdown",
      "metadata": {
        "id": "view-in-github",
        "colab_type": "text"
      },
      "source": [
        "<a href=\"https://colab.research.google.com/github/alexschwartzburg/Energy_Use_USA/blob/master/Analysis_of_Net_Energy_Consumption_USA_source_EIA.ipynb\" target=\"_parent\"><img src=\"https://colab.research.google.com/assets/colab-badge.svg\" alt=\"Open In Colab\"/></a>"
      ]
    },
    {
      "cell_type": "code",
      "metadata": {
        "id": "mgqatC4nyNDd",
        "colab_type": "code",
        "outputId": "6fe1f8de-1c34-45d6-b00e-ced1359df95f",
        "colab": {
          "base_uri": "https://localhost:8080/",
          "height": 408
        }
      },
      "source": [
        "import numpy as num\n",
        "import pandas as pd\n",
        "import matplotlib as mpb\n",
        "import seaborn as sbn\n",
        "\n",
        "data = pd.read_csv('/content/combined.csv')\n",
        "data['State'].unique()\n",
        "specials = ['US', 'DC']\n",
        "states = []\n",
        "regions = []\n",
        "\n",
        "for x in data['State'].unique():\n",
        "  if x in specials:\n",
        "    regions.append(x)\n",
        "  elif len(str(x)) == 2:\n",
        "    states.append(x)\n",
        "  elif len(str(x)) == 3:\n",
        "    regions.append(x)\n",
        "\n",
        "states_sorted = sorted(states)\n",
        "\n",
        "print (states_sorted)\n",
        "print (regions)\n",
        "len(states)\n",
        "\n",
        "\n",
        "\n"
      ],
      "execution_count": 0,
      "outputs": [
        {
          "output_type": "stream",
          "text": [
            "['AK', 'AL', 'AR', 'AZ', 'CA', 'CO', 'CT', 'DE', 'FL', 'GA', 'HI', 'IA', 'ID', 'IL', 'IN', 'KS', 'KY', 'LA', 'MA', 'MD', 'ME', 'MI', 'MN', 'MO', 'MS', 'MT', 'NC', 'ND', 'NE', 'NH', 'NJ', 'NM', 'NV', 'NY', 'OH', 'OK', 'OR', 'PA', 'RI', 'SC', 'SD', 'TN', 'TX', 'UT', 'VA', 'VT', 'WA', 'WI', 'WV', 'WY']\n",
            "['SAT', 'NEW', 'PCN', 'MTN', 'WSC', 'US', 'MAT', 'ENC', 'ESC', 'DC', 'PCC', 'WNC']\n"
          ],
          "name": "stdout"
        },
        {
          "output_type": "error",
          "ename": "KeyError",
          "evalue": "ignored",
          "traceback": [
            "\u001b[0;31m---------------------------------------------------------------------------\u001b[0m",
            "\u001b[0;31mKeyError\u001b[0m                                  Traceback (most recent call last)",
            "\u001b[0;32m<ipython-input-12-3d93547b28a2>\u001b[0m in \u001b[0;36m<module>\u001b[0;34m()\u001b[0m\n\u001b[1;32m     25\u001b[0m \u001b[0;34m\u001b[0m\u001b[0m\n\u001b[1;32m     26\u001b[0m \u001b[0;34m\u001b[0m\u001b[0m\n\u001b[0;32m---> 27\u001b[0;31m \u001b[0mdata\u001b[0m\u001b[0;34m.\u001b[0m\u001b[0mplot\u001b[0m\u001b[0;34m(\u001b[0m\u001b[0mdata\u001b[0m\u001b[0;34m[\u001b[0m\u001b[0;34m'State'\u001b[0m\u001b[0;34m]\u001b[0m\u001b[0;34m.\u001b[0m\u001b[0munique\u001b[0m\u001b[0;34m(\u001b[0m\u001b[0;34m)\u001b[0m\u001b[0;34m)\u001b[0m\u001b[0;34m\u001b[0m\u001b[0;34m\u001b[0m\u001b[0m\n\u001b[0m\u001b[1;32m     28\u001b[0m \u001b[0;34m\u001b[0m\u001b[0m\n",
            "\u001b[0;32m/usr/local/lib/python3.6/dist-packages/pandas/plotting/_core.py\u001b[0m in \u001b[0;36m__call__\u001b[0;34m(self, *args, **kwargs)\u001b[0m\n\u001b[1;32m    810\u001b[0m                 \u001b[0;32mif\u001b[0m \u001b[0mis_integer\u001b[0m\u001b[0;34m(\u001b[0m\u001b[0mx\u001b[0m\u001b[0;34m)\u001b[0m \u001b[0;32mand\u001b[0m \u001b[0;32mnot\u001b[0m \u001b[0mdata\u001b[0m\u001b[0;34m.\u001b[0m\u001b[0mcolumns\u001b[0m\u001b[0;34m.\u001b[0m\u001b[0mholds_integer\u001b[0m\u001b[0;34m(\u001b[0m\u001b[0;34m)\u001b[0m\u001b[0;34m:\u001b[0m\u001b[0;34m\u001b[0m\u001b[0;34m\u001b[0m\u001b[0m\n\u001b[1;32m    811\u001b[0m                     \u001b[0mx\u001b[0m \u001b[0;34m=\u001b[0m \u001b[0mdata_cols\u001b[0m\u001b[0;34m[\u001b[0m\u001b[0mx\u001b[0m\u001b[0;34m]\u001b[0m\u001b[0;34m\u001b[0m\u001b[0;34m\u001b[0m\u001b[0m\n\u001b[0;32m--> 812\u001b[0;31m                 \u001b[0;32melif\u001b[0m \u001b[0;32mnot\u001b[0m \u001b[0misinstance\u001b[0m\u001b[0;34m(\u001b[0m\u001b[0mdata\u001b[0m\u001b[0;34m[\u001b[0m\u001b[0mx\u001b[0m\u001b[0;34m]\u001b[0m\u001b[0;34m,\u001b[0m \u001b[0mABCSeries\u001b[0m\u001b[0;34m)\u001b[0m\u001b[0;34m:\u001b[0m\u001b[0;34m\u001b[0m\u001b[0;34m\u001b[0m\u001b[0m\n\u001b[0m\u001b[1;32m    813\u001b[0m                     \u001b[0;32mraise\u001b[0m \u001b[0mValueError\u001b[0m\u001b[0;34m(\u001b[0m\u001b[0;34m\"x must be a label or position\"\u001b[0m\u001b[0;34m)\u001b[0m\u001b[0;34m\u001b[0m\u001b[0;34m\u001b[0m\u001b[0m\n\u001b[1;32m    814\u001b[0m                 \u001b[0mdata\u001b[0m \u001b[0;34m=\u001b[0m \u001b[0mdata\u001b[0m\u001b[0;34m.\u001b[0m\u001b[0mset_index\u001b[0m\u001b[0;34m(\u001b[0m\u001b[0mx\u001b[0m\u001b[0;34m)\u001b[0m\u001b[0;34m\u001b[0m\u001b[0;34m\u001b[0m\u001b[0m\n",
            "\u001b[0;32m/usr/local/lib/python3.6/dist-packages/pandas/core/frame.py\u001b[0m in \u001b[0;36m__getitem__\u001b[0;34m(self, key)\u001b[0m\n\u001b[1;32m   2804\u001b[0m             \u001b[0;32mif\u001b[0m \u001b[0mis_iterator\u001b[0m\u001b[0;34m(\u001b[0m\u001b[0mkey\u001b[0m\u001b[0;34m)\u001b[0m\u001b[0;34m:\u001b[0m\u001b[0;34m\u001b[0m\u001b[0;34m\u001b[0m\u001b[0m\n\u001b[1;32m   2805\u001b[0m                 \u001b[0mkey\u001b[0m \u001b[0;34m=\u001b[0m \u001b[0mlist\u001b[0m\u001b[0;34m(\u001b[0m\u001b[0mkey\u001b[0m\u001b[0;34m)\u001b[0m\u001b[0;34m\u001b[0m\u001b[0;34m\u001b[0m\u001b[0m\n\u001b[0;32m-> 2806\u001b[0;31m             \u001b[0mindexer\u001b[0m \u001b[0;34m=\u001b[0m \u001b[0mself\u001b[0m\u001b[0;34m.\u001b[0m\u001b[0mloc\u001b[0m\u001b[0;34m.\u001b[0m\u001b[0m_get_listlike_indexer\u001b[0m\u001b[0;34m(\u001b[0m\u001b[0mkey\u001b[0m\u001b[0;34m,\u001b[0m \u001b[0maxis\u001b[0m\u001b[0;34m=\u001b[0m\u001b[0;36m1\u001b[0m\u001b[0;34m,\u001b[0m \u001b[0mraise_missing\u001b[0m\u001b[0;34m=\u001b[0m\u001b[0;32mTrue\u001b[0m\u001b[0;34m)\u001b[0m\u001b[0;34m[\u001b[0m\u001b[0;36m1\u001b[0m\u001b[0;34m]\u001b[0m\u001b[0;34m\u001b[0m\u001b[0;34m\u001b[0m\u001b[0m\n\u001b[0m\u001b[1;32m   2807\u001b[0m \u001b[0;34m\u001b[0m\u001b[0m\n\u001b[1;32m   2808\u001b[0m         \u001b[0;31m# take() does not accept boolean indexers\u001b[0m\u001b[0;34m\u001b[0m\u001b[0;34m\u001b[0m\u001b[0;34m\u001b[0m\u001b[0m\n",
            "\u001b[0;32m/usr/local/lib/python3.6/dist-packages/pandas/core/indexing.py\u001b[0m in \u001b[0;36m_get_listlike_indexer\u001b[0;34m(self, key, axis, raise_missing)\u001b[0m\n\u001b[1;32m   1551\u001b[0m \u001b[0;34m\u001b[0m\u001b[0m\n\u001b[1;32m   1552\u001b[0m         self._validate_read_indexer(\n\u001b[0;32m-> 1553\u001b[0;31m             \u001b[0mkeyarr\u001b[0m\u001b[0;34m,\u001b[0m \u001b[0mindexer\u001b[0m\u001b[0;34m,\u001b[0m \u001b[0mo\u001b[0m\u001b[0;34m.\u001b[0m\u001b[0m_get_axis_number\u001b[0m\u001b[0;34m(\u001b[0m\u001b[0maxis\u001b[0m\u001b[0;34m)\u001b[0m\u001b[0;34m,\u001b[0m \u001b[0mraise_missing\u001b[0m\u001b[0;34m=\u001b[0m\u001b[0mraise_missing\u001b[0m\u001b[0;34m\u001b[0m\u001b[0;34m\u001b[0m\u001b[0m\n\u001b[0m\u001b[1;32m   1554\u001b[0m         )\n\u001b[1;32m   1555\u001b[0m         \u001b[0;32mreturn\u001b[0m \u001b[0mkeyarr\u001b[0m\u001b[0;34m,\u001b[0m \u001b[0mindexer\u001b[0m\u001b[0;34m\u001b[0m\u001b[0;34m\u001b[0m\u001b[0m\n",
            "\u001b[0;32m/usr/local/lib/python3.6/dist-packages/pandas/core/indexing.py\u001b[0m in \u001b[0;36m_validate_read_indexer\u001b[0;34m(self, key, indexer, axis, raise_missing)\u001b[0m\n\u001b[1;32m   1638\u001b[0m             \u001b[0;32mif\u001b[0m \u001b[0mmissing\u001b[0m \u001b[0;34m==\u001b[0m \u001b[0mlen\u001b[0m\u001b[0;34m(\u001b[0m\u001b[0mindexer\u001b[0m\u001b[0;34m)\u001b[0m\u001b[0;34m:\u001b[0m\u001b[0;34m\u001b[0m\u001b[0;34m\u001b[0m\u001b[0m\n\u001b[1;32m   1639\u001b[0m                 \u001b[0maxis_name\u001b[0m \u001b[0;34m=\u001b[0m \u001b[0mself\u001b[0m\u001b[0;34m.\u001b[0m\u001b[0mobj\u001b[0m\u001b[0;34m.\u001b[0m\u001b[0m_get_axis_name\u001b[0m\u001b[0;34m(\u001b[0m\u001b[0maxis\u001b[0m\u001b[0;34m)\u001b[0m\u001b[0;34m\u001b[0m\u001b[0;34m\u001b[0m\u001b[0m\n\u001b[0;32m-> 1640\u001b[0;31m                 \u001b[0;32mraise\u001b[0m \u001b[0mKeyError\u001b[0m\u001b[0;34m(\u001b[0m\u001b[0;34mf\"None of [{key}] are in the [{axis_name}]\"\u001b[0m\u001b[0;34m)\u001b[0m\u001b[0;34m\u001b[0m\u001b[0;34m\u001b[0m\u001b[0m\n\u001b[0m\u001b[1;32m   1641\u001b[0m \u001b[0;34m\u001b[0m\u001b[0m\n\u001b[1;32m   1642\u001b[0m             \u001b[0;31m# We (temporarily) allow for some missing keys with .loc, except in\u001b[0m\u001b[0;34m\u001b[0m\u001b[0;34m\u001b[0m\u001b[0;34m\u001b[0m\u001b[0m\n",
            "\u001b[0;31mKeyError\u001b[0m: \"None of [Index(['AK', 'AL', 'NY', 'OH', 'HI', 'DE', 'MO', 'WI', 'MT', 'SAT', 'WA', 'IL',\\n       'RI', 'WV', 'KY', 'GA', 'MD', 'NV', 'FL', 'NEW', 'PCN', 'MS', 'OK',\\n       'TN', 'NE', 'NM', 'AR', 'ID', 'MTN', 'WSC', 'ME', 'MA', 'US', 'SC',\\n       'TX', 'CT', 'WY', 'CA', 'MAT', 'ENC', 'UT', 'SD', 'AZ', 'IN', 'ESC',\\n       'PA', 'NJ', 'DC', 'MI', 'IA', 'CO', 'ND', 'NC', 'LA', 'KS', 'NH', 'PCC',\\n       'OR', 'VT', 'WNC', 'VA', 'MN'],\\n      dtype='object')] are in the [columns]\""
          ]
        }
      ]
    },
    {
      "cell_type": "markdown",
      "metadata": {
        "id": "1ZcGjQ5krpz8",
        "colab_type": "text"
      },
      "source": [
        ""
      ]
    },
    {
      "cell_type": "markdown",
      "metadata": {
        "id": "vqGok75crkNB",
        "colab_type": "text"
      },
      "source": [
        "# There will be a title here"
      ]
    },
    {
      "cell_type": "markdown",
      "metadata": {
        "id": "JDoyNFwDkW6j",
        "colab_type": "text"
      },
      "source": [
        "As usual we import the modules we'll be working with.  Numpy, pandas, matplotlib, and seaborn.  We also pull in our data and tell python to print a summary using the ```.info()``` function in pandas."
      ]
    },
    {
      "cell_type": "code",
      "metadata": {
        "id": "OdJL8k__gjIG",
        "colab_type": "code",
        "outputId": "8fc866c3-929d-4c7e-bfee-65618c0a83b8",
        "colab": {
          "base_uri": "https://localhost:8080/",
          "height": 238
        }
      },
      "source": [
        "import numpy as num\n",
        "import pandas as pd\n",
        "import matplotlib as mpb\n",
        "import seaborn as sbn\n",
        "\n",
        "data = pd.read_csv('https://raw.githubusercontent.com/alexschwartzburg/Energy_Use_USA/master/combined.csv')\n",
        "data.info()\n",
        "\n"
      ],
      "execution_count": 1,
      "outputs": [
        {
          "output_type": "stream",
          "text": [
            "/usr/local/lib/python3.6/dist-packages/statsmodels/tools/_testing.py:19: FutureWarning: pandas.util.testing is deprecated. Use the functions in the public API at pandas.testing instead.\n",
            "  import pandas.util.testing as tm\n"
          ],
          "name": "stderr"
        },
        {
          "output_type": "stream",
          "text": [
            "<class 'pandas.core.frame.DataFrame'>\n",
            "RangeIndex: 4712 entries, 0 to 4711\n",
            "Data columns (total 3 columns):\n",
            " #   Column                                                Non-Null Count  Dtype  \n",
            "---  ------                                                --------------  -----  \n",
            " 0   Quarter                                               4712 non-null   object \n",
            " 1   Net Energy Generation in thousands of Kilowatt Hours  4712 non-null   float64\n",
            " 2   State                                                 4712 non-null   object \n",
            "dtypes: float64(1), object(2)\n",
            "memory usage: 110.6+ KB\n"
          ],
          "name": "stdout"
        }
      ]
    },
    {
      "cell_type": "code",
      "metadata": {
        "id": "52MlsOWKj13f",
        "colab_type": "code",
        "outputId": "09210c78-2f0c-454d-efab-291639296f4f",
        "colab": {
          "base_uri": "https://localhost:8080/",
          "height": 67
        }
      },
      "source": [
        "data.columns"
      ],
      "execution_count": 16,
      "outputs": [
        {
          "output_type": "execute_result",
          "data": {
            "text/plain": [
              "Index(['Quarter', 'Net Energy Generation in thousands of Kilowatt Hours',\n",
              "       'State'],\n",
              "      dtype='object')"
            ]
          },
          "metadata": {
            "tags": []
          },
          "execution_count": 16
        }
      ]
    },
    {
      "cell_type": "markdown",
      "metadata": {
        "id": "YOp74F_kkzGS",
        "colab_type": "text"
      },
      "source": [
        "As we can see the data is organized by both quarter (a time period) and State, a geographic area.  We should want to know how many of these there are, and what they are.  We can inspect this by obtaining the set of unique values in \"State\" and assessing what we get.\n",
        " "
      ]
    },
    {
      "cell_type": "code",
      "metadata": {
        "id": "dZgoXYBrj3za",
        "colab_type": "code",
        "outputId": "77c7daaa-6a30-4428-a8a1-0eb219a3cc18",
        "colab": {
          "base_uri": "https://localhost:8080/",
          "height": 118
        }
      },
      "source": [
        "print(data['State'].unique())\n",
        "print(len(data['State'].unique()))\n"
      ],
      "execution_count": 18,
      "outputs": [
        {
          "output_type": "stream",
          "text": [
            "['AK' 'AL' 'NY' 'OH' 'HI' 'DE' 'MO' 'WI' 'MT' 'SAT' 'WA' 'IL' 'RI' 'WV'\n",
            " 'KY' 'GA' 'MD' 'NV' 'FL' 'NEW' 'PCN' 'MS' 'OK' 'TN' 'NE' 'NM' 'AR' 'ID'\n",
            " 'MTN' 'WSC' 'ME' 'MA' 'US' 'SC' 'TX' 'CT' 'WY' 'CA' 'MAT' 'ENC' 'UT' 'SD'\n",
            " 'AZ' 'IN' 'ESC' 'PA' 'NJ' 'DC' 'MI' 'IA' 'CO' 'ND' 'NC' 'LA' 'KS' 'NH'\n",
            " 'PCC' 'OR' 'VT' 'WNC' 'VA' 'MN']\n",
            "62\n"
          ],
          "name": "stdout"
        }
      ]
    },
    {
      "cell_type": "markdown",
      "metadata": {
        "id": "yBrKVkJUmymJ",
        "colab_type": "text"
      },
      "source": [
        "As we learned in grade school there's only 50 states in america.  Yet our \"State\" column has 62 entries.  We need to separate the states from the others.  We can take a closer look at the others later, but for now it seems sensible to isolate them."
      ]
    },
    {
      "cell_type": "code",
      "metadata": {
        "id": "azxl5p1GkIy5",
        "colab_type": "code",
        "colab": {
          "base_uri": "https://localhost:8080/",
          "height": 87
        },
        "outputId": "b6e928f0-f0de-4b9e-94f0-15542a1d1fac"
      },
      "source": [
        "data['State'].unique()\n",
        "states = []\n",
        "regions = []\n",
        "specials = []\n",
        "\n",
        "for x in data['State'].unique():\n",
        "  if x in specials:\n",
        "    regions.append(x)\n",
        "  elif len(str(x)) == 2:\n",
        "    states.append(x)\n",
        "  elif len(str(x)) == 3:\n",
        "    regions.append(x)\n",
        "\n",
        "states_sorted = sorted(states)\n",
        "\n",
        "print (states_sorted)\n",
        "print (regions)\n",
        "len(states)"
      ],
      "execution_count": 19,
      "outputs": [
        {
          "output_type": "stream",
          "text": [
            "['AK', 'AL', 'AR', 'AZ', 'CA', 'CO', 'CT', 'DC', 'DE', 'FL', 'GA', 'HI', 'IA', 'ID', 'IL', 'IN', 'KS', 'KY', 'LA', 'MA', 'MD', 'ME', 'MI', 'MN', 'MO', 'MS', 'MT', 'NC', 'ND', 'NE', 'NH', 'NJ', 'NM', 'NV', 'NY', 'OH', 'OK', 'OR', 'PA', 'RI', 'SC', 'SD', 'TN', 'TX', 'US', 'UT', 'VA', 'VT', 'WA', 'WI', 'WV', 'WY']\n",
            "['SAT', 'NEW', 'PCN', 'MTN', 'WSC', 'MAT', 'ENC', 'ESC', 'PCC', 'WNC']\n"
          ],
          "name": "stdout"
        },
        {
          "output_type": "execute_result",
          "data": {
            "text/plain": [
              "52"
            ]
          },
          "metadata": {
            "tags": []
          },
          "execution_count": 19
        }
      ]
    },
    {
      "cell_type": "markdown",
      "metadata": {
        "id": "i8RGrqVbnkp0",
        "colab_type": "text"
      },
      "source": [
        "There seem to be two extra states.  It looks like 'DC' and 'US' are the extras.  We can dump them into the code above as \"specials\" to begin with.  Like so…"
      ]
    },
    {
      "cell_type": "code",
      "metadata": {
        "id": "Q3EHJuTZn3yR",
        "colab_type": "code",
        "colab": {
          "base_uri": "https://localhost:8080/",
          "height": 87
        },
        "outputId": "2c3c7c1d-0cc3-42ab-bd4c-971bc259bfdb"
      },
      "source": [
        "data['State'].unique()\n",
        "states = []\n",
        "regions = []\n",
        "specials = ['DC','US'] #here\n",
        "\n",
        "for x in data['State'].unique():\n",
        "  if x in specials:\n",
        "    regions.append(x)\n",
        "  elif len(str(x)) == 2:\n",
        "    states.append(x)\n",
        "  elif len(str(x)) == 3:\n",
        "    regions.append(x)\n",
        "\n",
        "states_sorted = sorted(states)\n",
        "\n",
        "print (states_sorted)\n",
        "print (regions)\n",
        "len(states)"
      ],
      "execution_count": 20,
      "outputs": [
        {
          "output_type": "stream",
          "text": [
            "['AK', 'AL', 'AR', 'AZ', 'CA', 'CO', 'CT', 'DE', 'FL', 'GA', 'HI', 'IA', 'ID', 'IL', 'IN', 'KS', 'KY', 'LA', 'MA', 'MD', 'ME', 'MI', 'MN', 'MO', 'MS', 'MT', 'NC', 'ND', 'NE', 'NH', 'NJ', 'NM', 'NV', 'NY', 'OH', 'OK', 'OR', 'PA', 'RI', 'SC', 'SD', 'TN', 'TX', 'UT', 'VA', 'VT', 'WA', 'WI', 'WV', 'WY']\n",
            "['SAT', 'NEW', 'PCN', 'MTN', 'WSC', 'US', 'MAT', 'ENC', 'ESC', 'DC', 'PCC', 'WNC']\n"
          ],
          "name": "stdout"
        },
        {
          "output_type": "execute_result",
          "data": {
            "text/plain": [
              "50"
            ]
          },
          "metadata": {
            "tags": []
          },
          "execution_count": 20
        }
      ]
    },
    {
      "cell_type": "markdown",
      "metadata": {
        "id": "7rL6WVhAoAzq",
        "colab_type": "text"
      },
      "source": [
        "Beautiful.  "
      ]
    },
    {
      "cell_type": "code",
      "metadata": {
        "id": "Fcjh5Re_qJKI",
        "colab_type": "code",
        "colab": {
          "base_uri": "https://localhost:8080/",
          "height": 235
        },
        "outputId": "f5c017a1-fc67-42d1-eaf7-93e7fb70d4b0"
      },
      "source": [
        "data['Quarter'].unique()"
      ],
      "execution_count": 27,
      "outputs": [
        {
          "output_type": "execute_result",
          "data": {
            "text/plain": [
              "array(['Q4 2019', 'Q3 2019', 'Q2 2019', 'Q1 2019', 'Q4 2018', 'Q3 2018',\n",
              "       'Q2 2018', 'Q1 2018', 'Q4 2017', 'Q3 2017', 'Q2 2017', 'Q1 2017',\n",
              "       'Q4 2016', 'Q3 2016', 'Q2 2016', 'Q1 2016', 'Q4 2015', 'Q3 2015',\n",
              "       'Q2 2015', 'Q1 2015', 'Q4 2014', 'Q3 2014', 'Q2 2014', 'Q1 2014',\n",
              "       'Q4 2013', 'Q3 2013', 'Q2 2013', 'Q1 2013', 'Q4 2012', 'Q3 2012',\n",
              "       'Q2 2012', 'Q1 2012', 'Q4 2011', 'Q3 2011', 'Q2 2011', 'Q1 2011',\n",
              "       'Q4 2010', 'Q3 2010', 'Q2 2010', 'Q1 2010', 'Q4 2009', 'Q3 2009',\n",
              "       'Q2 2009', 'Q1 2009', 'Q4 2008', 'Q3 2008', 'Q2 2008', 'Q1 2008',\n",
              "       'Q4 2007', 'Q3 2007', 'Q2 2007', 'Q1 2007', 'Q4 2006', 'Q3 2006',\n",
              "       'Q2 2006', 'Q1 2006', 'Q4 2005', 'Q3 2005', 'Q2 2005', 'Q1 2005',\n",
              "       'Q4 2004', 'Q3 2004', 'Q2 2004', 'Q1 2004', 'Q4 2003', 'Q3 2003',\n",
              "       'Q2 2003', 'Q1 2003', 'Q4 2002', 'Q3 2002', 'Q2 2002', 'Q1 2002',\n",
              "       'Q4 2001', 'Q3 2001', 'Q2 2001', 'Q1 2001'], dtype=object)"
            ]
          },
          "metadata": {
            "tags": []
          },
          "execution_count": 27
        }
      ]
    },
    {
      "cell_type": "code",
      "metadata": {
        "id": "4XK80OEKoH1e",
        "colab_type": "code",
        "colab": {
          "base_uri": "https://localhost:8080/",
          "height": 857
        },
        "outputId": "cfc40f72-1c3f-49d1-e71b-99e96a67acfc"
      },
      "source": [
        "data_by_state1 = []\n",
        "data_by_state2 = []\n",
        "for x in states:\n",
        "  data_by_state1.append(x)\n",
        "  data_by_state2.append(None)\n",
        "\n",
        "data_by_state = dict(zip(data_by_state1,data_by_state2))\n",
        "\n",
        "for x in data:\n",
        "  for y in states:\n",
        "      if data['State'] == states[y]:\n",
        "        data_by_state[y] = \n"
      ],
      "execution_count": 24,
      "outputs": [
        {
          "output_type": "execute_result",
          "data": {
            "text/plain": [
              "{'AK': None,\n",
              " 'AL': None,\n",
              " 'AR': None,\n",
              " 'AZ': None,\n",
              " 'CA': None,\n",
              " 'CO': None,\n",
              " 'CT': None,\n",
              " 'DE': None,\n",
              " 'FL': None,\n",
              " 'GA': None,\n",
              " 'HI': None,\n",
              " 'IA': None,\n",
              " 'ID': None,\n",
              " 'IL': None,\n",
              " 'IN': None,\n",
              " 'KS': None,\n",
              " 'KY': None,\n",
              " 'LA': None,\n",
              " 'MA': None,\n",
              " 'MD': None,\n",
              " 'ME': None,\n",
              " 'MI': None,\n",
              " 'MN': None,\n",
              " 'MO': None,\n",
              " 'MS': None,\n",
              " 'MT': None,\n",
              " 'NC': None,\n",
              " 'ND': None,\n",
              " 'NE': None,\n",
              " 'NH': None,\n",
              " 'NJ': None,\n",
              " 'NM': None,\n",
              " 'NV': None,\n",
              " 'NY': None,\n",
              " 'OH': None,\n",
              " 'OK': None,\n",
              " 'OR': None,\n",
              " 'PA': None,\n",
              " 'RI': None,\n",
              " 'SC': None,\n",
              " 'SD': None,\n",
              " 'TN': None,\n",
              " 'TX': None,\n",
              " 'UT': None,\n",
              " 'VA': None,\n",
              " 'VT': None,\n",
              " 'WA': None,\n",
              " 'WI': None,\n",
              " 'WV': None,\n",
              " 'WY': None}"
            ]
          },
          "metadata": {
            "tags": []
          },
          "execution_count": 24
        }
      ]
    }
  ]
}